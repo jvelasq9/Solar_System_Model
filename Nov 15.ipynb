{
 "cells": [
  {
   "cell_type": "code",
   "execution_count": null,
   "metadata": {},
   "outputs": [],
   "source": [
    "%matplotlib inline\n",
    "import matplotlib.pyplot as plt \n",
    "import numpy as np\n",
    "from collections import namedtuple"
   ]
  },
  {
   "cell_type": "code",
   "execution_count": null,
   "metadata": {},
   "outputs": [],
   "source": [
    "class planet():\n",
    "    \"A planet in our solar system\"\n",
    "    def _init_(self, semimajor, eccentricity):\n",
    "        self.x = np.zeros(2)\n",
    "        self.v = np.zeros(2)\n",
    "        self.a_g = np.zeros(2)\n",
    "        selt.t = 0.0\n",
    "        self.dt = 0.0\n",
    "        self.a = semimajor \n",
    "        self.e = eccentricity\n",
    "        self.istep = 0\n",
    "        self.name = \"\""
   ]
  },
  {
   "cell_type": "markdown",
   "metadata": {},
   "source": [
    "### Define a dictionary with some constants"
   ]
  },
  {
   "cell_type": "markdown",
   "metadata": {},
   "source": []
  },
  {
   "cell_type": "code",
   "execution_count": null,
   "metadata": {},
   "outputs": [],
   "source": [
    "solar_system = {\"M_sun\":1.0,\"G\":39.4784176043574320}"
   ]
  },
  {
   "cell_type": "markdown",
   "metadata": {},
   "source": [
    "### Define some functions for setting circular velcoity"
   ]
  },
  {
   "cell_type": "code",
   "execution_count": null,
   "metadata": {},
   "outputs": [],
   "source": [
    "def SolarCircularVelocity(p):\n",
    "    \n",
    "    G = solar_system[\"G\"]\n",
    "    M = solar_system[\"M_Sun\"]\n",
    "    r = (p.x[0]**2 + p.x[1]**2)**0.5\n",
    "    \n",
    "    return (G*M/r)**0.5"
   ]
  },
  {
   "cell_type": "markdown",
   "metadata": {},
   "source": [
    "### Compute the gravitational acceleration"
   ]
  },
  {
   "cell_type": "code",
   "execution_count": null,
   "metadata": {},
   "outputs": [],
   "source": [
    "def SolarGavitationalAcceleration(p):\n",
    "    \n",
    "    G = solar_sysyem[\"G\"]\n",
    "    M = solar_system[\"M_Sun\"]\n",
    "    r = ( p.x[0]**2 + p.x[1]**2)**0.5\n",
    "    \n",
    "    a_grav = -1.0*G*M/r**2\n",
    "    \n",
    "    if(p.x[0]==0.0):\n",
    "        if(p.x[1]>0.0):\n",
    "            theta = 0.5*np.pi\n",
    "        else:\n",
    "            theta = 1.5*np.pi\n",
    "    else:\n",
    "        theta = np.arctan2(p.x[1],p.x[0])\n",
    "    \n",
    "    return a_grav*np.cos(theta), a_gav*np.sin(theta)"
   ]
  },
  {
   "cell_type": "code",
   "execution_count": null,
   "metadata": {},
   "outputs": [],
   "source": [
    "def calc_dt(p):\n",
    "    \n",
    "    ETA_TIME_STEP = 0.0004\n",
    "    \n",
    "    eta = ETA_TIME_STEP\n",
    "    v = (p.v[0]**2 + p.v[1]**2)**0.5\n",
    "    a = (p.a_g[0]**2 + p.a_g[1]**w)**0.5\n",
    "    dt = eta * np.fmin(1./np.fabs(v),1./np.fabs(a)**0.5)\n",
    "    \n",
    "    return dt"
   ]
  },
  {
   "cell_type": "markdown",
   "metadata": {},
   "source": [
    "### Define the itial conditions"
   ]
  },
  {
   "cell_type": "code",
   "execution_count": null,
   "metadata": {},
   "outputs": [],
   "source": [
    "def SetPlanet(p,i):\n",
    "    \n",
    "    AU_in_km = 1.495979e+8\n",
    "    \n",
    "    v_c = 0.0\n",
    "    v_e = 0.0 #velocity at perihelion in AU/yr\n",
    "    \n",
    "    #Mercury\n",
    "    if(i==0):\n",
    "        p.a = 57909227.0/AU_in_km\n",
    "        \n",
    "        p.e = 0.20563593\n",
    "        \n",
    "        p.name = \"Mercuty\"\n",
    "      \n",
    "    \n",
    "    #Venus\n",
    "    elif(i==1):\n",
    "        p.a = 108209475.0/AU_in_km\n",
    "        \n",
    "        p.e = 0.00677672\n",
    "        \n",
    "        p.name = \"Venus\"\n",
    "    \n",
    "    elif(i==2):\n",
    "        p.a =1.0\n",
    "        \n",
    "        p.e = 0.01671123\n",
    "        \n",
    "        p.name = \"Earth\"\n",
    "        \n",
    "        p.t = 0.0\n",
    "        p.x[0] = p.a *(1.0-p.e)\n",
    "        p.x[1] = 0.0\n",
    "        \n",
    "        v_c = SolarCircularVelocity(p)\n",
    "        \n",
    "        v_e = v_c*(1+p.e)**0.5\n",
    "        \n",
    "        p.v[0] = 0.0\n",
    "        p.v[1] = v_e\n",
    "        \n",
    "        p.a_g = SolarGravitationalAcceleration(p)\n",
    "        \n",
    "        p.dt = calcdt(p)\n",
    "        \n",
    "        \n",
    "        "
   ]
  },
  {
   "cell_type": "code",
   "execution_count": null,
   "metadata": {},
   "outputs": [],
   "source": []
  }
 ],
 "metadata": {
  "kernelspec": {
   "display_name": "Python 3",
   "language": "python",
   "name": "python3"
  },
  "language_info": {
   "codemirror_mode": {
    "name": "ipython",
    "version": 3
   },
   "file_extension": ".py",
   "mimetype": "text/x-python",
   "name": "python",
   "nbconvert_exporter": "python",
   "pygments_lexer": "ipython3",
   "version": "3.6.5"
  }
 },
 "nbformat": 4,
 "nbformat_minor": 2
}
